{
 "cells": [
  {
   "cell_type": "code",
   "execution_count": 73,
   "metadata": {},
   "outputs": [
    {
     "name": "stdout",
     "output_type": "stream",
     "text": [
      "{0.7608681795294843: 0.09459705426610765, 0.5502472520115989: 0.6794948168379016, 0.4753591515528519: 0.43787536955084105, 0.5854410600928768: 0.49182575195325884, 0.6623348291546849: 0.18504079691133124, 0.900522203664666: 0.9892196101332957, 0.6411363053038166: 0.6100641887697031, 0.6936329443090355: 0.8336469444552052, 0.77188412525719: 0.3121669956993681, 0.6680588645375874: 0.06789202042532128}\n",
      "[(0.6680588645375874, 0.06789202042532128), (0.7608681795294843, 0.09459705426610765), (0.6936329443090355, 0.8336469444552052), (0.900522203664666, 0.9892196101332957)]\n"
     ]
    },
    {
     "data": {
      "image/png": "[encoded data removed]",
      "text/plain": [
       "<Figure size 432x288 with 1 Axes>"
      ]
     },
     "metadata": {
      "needs_background": "light"
     },
     "output_type": "display_data"
    },
    {
     "name": "stdout",
     "output_type": "stream",
     "text": [
      "0.01\n"
     ]
    }
   ],
   "source": [
    "import numpy as np\n",
    "\n",
    "import matplotlib.pyplot as plt\n",
    "\n",
    "import random\n",
    "\n",
    "n = 10;\n",
    "\n",
    "D = [[], []];\n",
    "\n",
    "Ds = {};\n",
    "\n",
    "for i in range(0, n):\n",
    "    x = random.random();\n",
    "    y = random.random();\n",
    "    \n",
    "    D[0].append(x);\n",
    "    D[1].append(y);\n",
    "    \n",
    "    Ds[x] = y;\n",
    "\n",
    "plt.plot(D[0], D[1], 'go');\n",
    "\n",
    "print(Ds);\n",
    "\n",
    "Ds = sorted(Ds.items(), key = lambda x:x[1]);\n",
    "\n",
    "mnx = [Ds[0], Ds[1], Ds[n - 2], Ds[n - 1]];\n",
    "\n",
    "print(mnx);\n",
    "\n",
    "plt.plot(Ds[0], 'rx');\n",
    "plt.show();\n",
    "\n",
    "eta = 1/100;\n",
    "\n",
    "print(eta);"
   ]
  }
 ],
 "metadata": {
  "kernelspec": {
   "display_name": "Python 3",
   "language": "python",
   "name": "python3"
  },
  "language_info": {
   "codemirror_mode": {
    "name": "ipython",
    "version": 3
   },
   "file_extension": ".py",
   "mimetype": "text/x-python",
   "name": "python",
   "nbconvert_exporter": "python",
   "pygments_lexer": "ipython3",
   "version": "3.6.9"
  }
 },
 "nbformat": 4,
 "nbformat_minor": 4
}
